{
 "cells": [
  {
   "cell_type": "markdown",
   "metadata": {},
   "source": [
    "# Tensor Demo\n",
    "> based on Appendix A"
   ]
  },
  {
   "cell_type": "code",
   "execution_count": 10,
   "metadata": {},
   "outputs": [
    {
     "name": "stdout",
     "output_type": "stream",
     "text": [
      "A:tensor([[1, 2],\n",
      "        [3, 4]]),\n",
      "B:tensor([[5, 6],\n",
      "        [7, 8]])\n"
     ]
    },
    {
     "data": {
      "text/plain": [
       "{'Tensor Permutation': tensor([[[1, 5],\n",
       "          [3, 7]],\n",
       " \n",
       "         [[2, 6],\n",
       "          [4, 8]]]),\n",
       " 'Addition': tensor([[ 6,  8],\n",
       "         [10, 12]]),\n",
       " 'Subtraction': tensor([[-4, -4],\n",
       "         [-4, -4]]),\n",
       " 'Scalar Product': tensor([[2, 4],\n",
       "         [6, 8]]),\n",
       " 'Hadamard Product': tensor([[ 5, 12],\n",
       "         [21, 32]]),\n",
       " 'Inner Product': tensor(70),\n",
       " 'Contraction Product': tensor(70)}"
      ]
     },
     "execution_count": 10,
     "metadata": {},
     "output_type": "execute_result"
    }
   ],
   "source": [
    "import torch\n",
    "\n",
    "# 1. Tensor Permutation\n",
    "tensor = torch.tensor([[[1, 2], [3, 4]], [[5, 6], [7, 8]]])\n",
    "permuted_tensor = tensor.permute(2, 1, 0)\n",
    "\n",
    "# 2. Addition and Subtraction\n",
    "A = torch.tensor([[1, 2], [3, 4]])\n",
    "B = torch.tensor([[5, 6], [7, 8]])\n",
    "print(f\"A:{A},\\nB:{B}\")\n",
    "addition = A + B\n",
    "subtraction = A - B\n",
    "\n",
    "# 3. Scalar Product\n",
    "scalar = 2\n",
    "T = torch.tensor([[1, 2], [3, 4]])\n",
    "scalar_product = scalar * T\n",
    "\n",
    "# 4. Hadamard Product\n",
    "hadamard_product = A * B  # Element-wise multiplication\n",
    "\n",
    "# 5. Inner Product\n",
    "inner_product = torch.sum(A * B)  # Summation of element-wise product\n",
    "\n",
    "# 6. Contraction Product\n",
    "contraction = torch.tensordot(A, B)  # Contract over the last axis of A and the first axis of B\n",
    "\n",
    "{\n",
    "    \"Tensor Permutation\": permuted_tensor,\n",
    "    \"Addition\": addition,\n",
    "    \"Subtraction\": subtraction,\n",
    "    \"Scalar Product\": scalar_product,\n",
    "    \"Hadamard Product\": hadamard_product,\n",
    "    \"Inner Product\": inner_product,\n",
    "    \"Contraction Product\": contraction\n",
    "}\n"
   ]
  },
  {
   "cell_type": "code",
   "execution_count": null,
   "metadata": {},
   "outputs": [
    {
     "name": "stdout",
     "output_type": "stream",
     "text": [
      "torch.Size([3, 5])\n",
      "torch.Size([3, 1, 5])\n",
      "torch.Size([1, 3, 5])\n"
     ]
    }
   ],
   "source": [
    "x = torch.randn(1, 3, 1, 5)\n",
    "x_squeezed = torch.squeeze(x)\n",
    "x_squeezed_dim1 = torch.squeeze(x, dim=0)\n",
    "x_squeezed_dim2 = torch.squeeze(x, dim=2)\n",
    "print(x_squeezed.shape)  # (3, 5)\n",
    "print(x_squeezed_dim1.shape)  # (3, 1, 5)\n",
    "print(x_squeezed_dim2.shape)  # (1, 3, 5)\n"
   ]
  },
  {
   "cell_type": "code",
   "execution_count": 11,
   "metadata": {},
   "outputs": [
    {
     "data": {
      "text/plain": [
       "{'Contraction Product Result Shape': torch.Size([2, 3, 5]),\n",
       " 'Matrix Multiplication Result': tensor([[19, 22],\n",
       "         [43, 50]]),\n",
       " 'Matrix Inner Product Result': 70,\n",
       " 'Identity Tensor': tensor([[1., 0., 0.],\n",
       "         [0., 1., 0.],\n",
       "         [0., 0., 1.]]),\n",
       " 'Kronecker Product Result': tensor([[ 0,  5,  0, 10],\n",
       "         [ 6,  7, 12, 14],\n",
       "         [ 0, 15,  0, 20],\n",
       "         [18, 21, 24, 28]])}"
      ]
     },
     "execution_count": 11,
     "metadata": {},
     "output_type": "execute_result"
    }
   ],
   "source": [
    "import torch\n",
    "\n",
    "# 1. Contraction Product (General)\n",
    "def contraction_product(A, B, axes):\n",
    "    \"\"\"\n",
    "    A: Tensor of shape (n1, n2, ..., nr, ..., np)\n",
    "    B: Tensor of shape (n1, n2, ..., nr, ..., nq)\n",
    "    axes: Tuple of two lists. The first list specifies axes of A, \n",
    "          the second specifies axes of B to contract over.\n",
    "    \"\"\"\n",
    "    return torch.tensordot(A, B, dims=axes)\n",
    "\n",
    "# Example for contraction product\n",
    "A = torch.rand(2, 3, 4)\n",
    "B = torch.rand(4, 5)\n",
    "contraction_result = contraction_product(A, B, axes=([2], [0]))\n",
    "contraction_result_shape = contraction_result.shape\n",
    "\n",
    "# 2. Matrix Multiplication (Special case of contraction)\n",
    "M = torch.tensor([[1, 2], [3, 4]])\n",
    "N = torch.tensor([[5, 6], [7, 8]])\n",
    "matrix_multiplication_result = torch.matmul(M, N)\n",
    "\n",
    "# 3. Matrix Inner Product (Full contraction)\n",
    "matrix_inner_product_result = torch.sum(M * N)\n",
    "\n",
    "# 4. Identity Tensor for Contraction Product\n",
    "def identity_tensor(shape):\n",
    "    \"\"\"\n",
    "    Creates an identity tensor for contraction.\n",
    "    Example: shape = (p, p) for a 2p-order identity tensor.\n",
    "    \"\"\"\n",
    "    assert len(shape) % 2 == 0, \"Shape must be even for a valid identity tensor.\"\n",
    "    dim = shape[0]\n",
    "    eye = torch.eye(dim)\n",
    "    return eye.reshape(*shape)\n",
    "\n",
    "identity_tensor_result = identity_tensor((3, 3))\n",
    "\n",
    "# 5. Kronecker Product\n",
    "def kronecker_product(A, B):\n",
    "    \"\"\"\n",
    "    Compute Kronecker product of tensors A and B.\n",
    "    \"\"\"\n",
    "    return torch.kron(A, B)\n",
    "\n",
    "A_kron = torch.tensor([[1, 2], [3, 4]])\n",
    "B_kron = torch.tensor([[0, 5], [6, 7]])\n",
    "kronecker_product_result = kronecker_product(A_kron, B_kron)\n",
    "\n",
    "# Display Results\n",
    "{\n",
    "    \"Contraction Product Result Shape\": contraction_result_shape,\n",
    "    \"Matrix Multiplication Result\": matrix_multiplication_result,\n",
    "    \"Matrix Inner Product Result\": matrix_inner_product_result.item(),\n",
    "    \"Identity Tensor\": identity_tensor_result,\n",
    "    \"Kronecker Product Result\": kronecker_product_result\n",
    "}\n"
   ]
  },
  {
   "cell_type": "code",
   "execution_count": null,
   "metadata": {},
   "outputs": [],
   "source": []
  }
 ],
 "metadata": {
  "kernelspec": {
   "display_name": "base",
   "language": "python",
   "name": "python3"
  },
  "language_info": {
   "codemirror_mode": {
    "name": "ipython",
    "version": 3
   },
   "file_extension": ".py",
   "mimetype": "text/x-python",
   "name": "python",
   "nbconvert_exporter": "python",
   "pygments_lexer": "ipython3",
   "version": "3.9.16"
  }
 },
 "nbformat": 4,
 "nbformat_minor": 2
}
